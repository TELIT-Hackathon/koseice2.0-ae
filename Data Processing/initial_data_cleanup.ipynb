{
 "cells": [
  {
   "cell_type": "code",
   "execution_count": 23,
   "id": "021ecf4f",
   "metadata": {},
   "outputs": [],
   "source": [
    "import pandas as pd"
   ]
  },
  {
   "cell_type": "code",
   "execution_count": 24,
   "id": "040a4c42",
   "metadata": {},
   "outputs": [],
   "source": [
    "df = pd.read_csv(\"waze_original.csv\", sep=\";\")"
   ]
  },
  {
   "cell_type": "code",
   "execution_count": 25,
   "id": "bae52196",
   "metadata": {},
   "outputs": [],
   "source": [
    "df = df[df.Country == \"LO\"]\n",
    "df = df[df.City == \"Košice\"]"
   ]
  },
  {
   "cell_type": "code",
   "execution_count": 26,
   "id": "b9aa591e",
   "metadata": {},
   "outputs": [],
   "source": [
    "import time\n",
    "import calendar"
   ]
  },
  {
   "cell_type": "code",
   "execution_count": 27,
   "id": "69d525ba",
   "metadata": {},
   "outputs": [],
   "source": [
    "epoch_times = []\n",
    "month_dict = {\"jan\": \"1\", \"feb\": \"2\", \"mar\": \"3\", \"apr\": \"4\", \"may\": \"5\", \"jun\": \"6\", \"jul\": \"7\", \"aug\": \"8\", \"sep\": \"9\", \"oct\": \"10\", \"nov\": \"11\", \"dec\": \"12\"}\n",
    "for index, row in df.iterrows():\n",
    "    month, day = 1, 1\n",
    "    try:\n",
    "        month, day = row[\"Date\"].split(\".\")\n",
    "    except:\n",
    "        month, day = row[\"Date\"].split(\" \")\n",
    "        \n",
    "    utc_time = time.strptime(\".\".join([str(row[\"Year\"]), month_dict[month.lower()], day]), \"%Y.%m.%d\")\n",
    "    epoch_time = calendar.timegm(utc_time)\n",
    "    epoch_times.append(epoch_time)"
   ]
  },
  {
   "cell_type": "code",
   "execution_count": 28,
   "id": "40a6ed27",
   "metadata": {},
   "outputs": [],
   "source": [
    "df[\"Timestamp\"] = epoch_times"
   ]
  },
  {
   "cell_type": "code",
   "execution_count": 29,
   "id": "02cd6a32",
   "metadata": {
    "scrolled": true
   },
   "outputs": [],
   "source": [
    "df = df.drop('Date', axis=1).drop('Year', axis=1).drop('Country', axis=1).drop('City', axis=1).drop('Type', axis=1)"
   ]
  },
  {
   "cell_type": "code",
   "execution_count": 30,
   "id": "b2227d8b",
   "metadata": {},
   "outputs": [],
   "source": [
    "df = df[df.Subtype != \"HAZARD_WEATHER\"]"
   ]
  },
  {
   "cell_type": "code",
   "execution_count": 31,
   "id": "ff0a6603",
   "metadata": {},
   "outputs": [],
   "source": [
    "import json\n",
    "alerts_dict = {}\n",
    "with open(\"alerts.json\", \"r\") as alerts_file:\n",
    "    alerts_dict = json.load(alerts_file)"
   ]
  },
  {
   "cell_type": "code",
   "execution_count": 32,
   "id": "7df27c56",
   "metadata": {},
   "outputs": [],
   "source": [
    "types = []\n",
    "lats = [] #48\n",
    "lngs = [] #21\n",
    "for index, row in df.iterrows():\n",
    "    _type = None\n",
    "    try:\n",
    "        _type = alerts_dict[row.Subtype]\n",
    "    except:\n",
    "        _type = \"DELETE\"\n",
    "        \n",
    "    lng, lat = row.Location.replace(\"Point(\", \"\")[:-1].split(\" \")[::-1]\n",
    "    \n",
    "    types.append(_type)\n",
    "    lats.append(lng)\n",
    "    lngs.append(lat)\n",
    "\n",
    "df[\"Type\"] = types\n",
    "df[\"Lat\"] = lats\n",
    "df[\"Lng\"] = lngs\n",
    "\n",
    "df = df.drop('Location', axis=1).drop('Subtype', axis=1)\n",
    "df = df[df.Type != \"DELETE\"]"
   ]
  },
  {
   "cell_type": "code",
   "execution_count": 35,
   "id": "dea68043",
   "metadata": {},
   "outputs": [],
   "source": [
    "df.to_csv(\"waze-all_clean.csv\", index=False)"
   ]
  },
  {
   "cell_type": "code",
   "execution_count": 70,
   "id": "ee61f995",
   "metadata": {},
   "outputs": [],
   "source": [
    "df.sort_values(by=['Timestamp'], ascending=False)\n",
    "\n",
    "most_recent_timestamp = df.iloc[[0]].Timestamp\n",
    "\n",
    "df = df[most_recent_timestamp[1] - df.Timestamp <= 2678400] #31 days"
   ]
  },
  {
   "cell_type": "code",
   "execution_count": 72,
   "id": "37e1191a",
   "metadata": {},
   "outputs": [],
   "source": [
    "df.to_csv(\"waze-history-month.csv\", index=False)"
   ]
  },
  {
   "cell_type": "code",
   "execution_count": 74,
   "id": "00c8c57d",
   "metadata": {},
   "outputs": [],
   "source": [
    "most_recent_timestamp = df.iloc[[0]].Timestamp\n",
    "\n",
    "df = df[most_recent_timestamp[1] - df.Timestamp <= 86400] #1 day"
   ]
  },
  {
   "cell_type": "code",
   "execution_count": 76,
   "id": "2c54d18b",
   "metadata": {},
   "outputs": [],
   "source": [
    "df.to_csv(\"waze-history-day.csv\", index=False)"
   ]
  },
  {
   "cell_type": "code",
   "execution_count": null,
   "id": "ffeafcba",
   "metadata": {},
   "outputs": [],
   "source": []
  }
 ],
 "metadata": {
  "kernelspec": {
   "display_name": "Python 3 (ipykernel)",
   "language": "python",
   "name": "python3"
  },
  "language_info": {
   "codemirror_mode": {
    "name": "ipython",
    "version": 3
   },
   "file_extension": ".py",
   "mimetype": "text/x-python",
   "name": "python",
   "nbconvert_exporter": "python",
   "pygments_lexer": "ipython3",
   "version": "3.10.8"
  }
 },
 "nbformat": 4,
 "nbformat_minor": 5
}
